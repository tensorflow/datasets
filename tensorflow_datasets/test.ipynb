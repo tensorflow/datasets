{
 "cells": [
  {
   "cell_type": "code",
   "execution_count": 1,
   "metadata": {},
   "outputs": [],
   "source": [
    "import tensorflow_datasets as tfds\n",
    "import tensorflow as tf\n",
    "\n",
    "import numpy as np\n",
    "import os\n",
    "import io\n",
    "from medpy.io import load"
   ]
  },
  {
   "cell_type": "code",
   "execution_count": 2,
   "metadata": {},
   "outputs": [
    {
     "name": "stdout",
     "output_type": "stream",
     "text": [
      "\u001b[1mDownloading and preparing dataset brats2015/0.1.0 (download: Unknown size, generated: Unknown size, total: Unknown size) to /home/jupyter/tensorflow_datasets/brats2015/0.1.0...\u001b[0m\n"
     ]
    },
    {
     "data": {
      "application/vnd.jupyter.widget-view+json": {
       "model_id": "",
       "version_major": 2,
       "version_minor": 0
      },
      "text/plain": [
       "HBox(children=(FloatProgress(value=1.0, bar_style='info', layout=Layout(width='20px'), max=1.0), HTML(value=''…"
      ]
     },
     "metadata": {},
     "output_type": "display_data"
    },
    {
     "ename": "NotFoundError",
     "evalue": "Could not find directory /home/jupyter/tensorflow_datasets/downloads/manual/BRATS2015_Training",
     "output_type": "error",
     "traceback": [
      "\u001b[0;31m---------------------------------------------------------------------------\u001b[0m",
      "\u001b[0;31mNotFoundError\u001b[0m                             Traceback (most recent call last)",
      "\u001b[0;32m<ipython-input-2-d2d1fa74f294>\u001b[0m in \u001b[0;36m<module>\u001b[0;34m\u001b[0m\n\u001b[0;32m----> 1\u001b[0;31m \u001b[0mdata\u001b[0m \u001b[0;34m=\u001b[0m \u001b[0mtfds\u001b[0m\u001b[0;34m.\u001b[0m\u001b[0mload\u001b[0m\u001b[0;34m(\u001b[0m\u001b[0;34m'Brats2015'\u001b[0m\u001b[0;34m)\u001b[0m\u001b[0;34m\u001b[0m\u001b[0;34m\u001b[0m\u001b[0m\n\u001b[0m\u001b[1;32m      2\u001b[0m \u001b[0mds_iter\u001b[0m \u001b[0;34m=\u001b[0m \u001b[0miter\u001b[0m\u001b[0;34m(\u001b[0m\u001b[0mdata\u001b[0m\u001b[0;34m[\u001b[0m\u001b[0;34m'train'\u001b[0m\u001b[0;34m]\u001b[0m\u001b[0;34m)\u001b[0m\u001b[0;34m\u001b[0m\u001b[0;34m\u001b[0m\u001b[0m\n\u001b[1;32m      3\u001b[0m \u001b[0mds_iter\u001b[0m\u001b[0;34m\u001b[0m\u001b[0;34m\u001b[0m\u001b[0m\n",
      "\u001b[0;32m/opt/conda/lib/python3.7/site-packages/tensorflow_datasets/core/load.py\u001b[0m in \u001b[0;36mload\u001b[0;34m(name, split, data_dir, batch_size, shuffle_files, download, as_supervised, decoders, read_config, with_info, builder_kwargs, download_and_prepare_kwargs, as_dataset_kwargs, try_gcs)\u001b[0m\n\u001b[1;32m    315\u001b[0m   \u001b[0;32mif\u001b[0m \u001b[0mdownload\u001b[0m\u001b[0;34m:\u001b[0m\u001b[0;34m\u001b[0m\u001b[0;34m\u001b[0m\u001b[0m\n\u001b[1;32m    316\u001b[0m     \u001b[0mdownload_and_prepare_kwargs\u001b[0m \u001b[0;34m=\u001b[0m \u001b[0mdownload_and_prepare_kwargs\u001b[0m \u001b[0;32mor\u001b[0m \u001b[0;34m{\u001b[0m\u001b[0;34m}\u001b[0m\u001b[0;34m\u001b[0m\u001b[0;34m\u001b[0m\u001b[0m\n\u001b[0;32m--> 317\u001b[0;31m     \u001b[0mdbuilder\u001b[0m\u001b[0;34m.\u001b[0m\u001b[0mdownload_and_prepare\u001b[0m\u001b[0;34m(\u001b[0m\u001b[0;34m**\u001b[0m\u001b[0mdownload_and_prepare_kwargs\u001b[0m\u001b[0;34m)\u001b[0m\u001b[0;34m\u001b[0m\u001b[0;34m\u001b[0m\u001b[0m\n\u001b[0m\u001b[1;32m    318\u001b[0m \u001b[0;34m\u001b[0m\u001b[0m\n\u001b[1;32m    319\u001b[0m   \u001b[0;32mif\u001b[0m \u001b[0mas_dataset_kwargs\u001b[0m \u001b[0;32mis\u001b[0m \u001b[0;32mNone\u001b[0m\u001b[0;34m:\u001b[0m\u001b[0;34m\u001b[0m\u001b[0;34m\u001b[0m\u001b[0m\n",
      "\u001b[0;32m/opt/conda/lib/python3.7/site-packages/tensorflow_datasets/core/dataset_builder.py\u001b[0m in \u001b[0;36mdownload_and_prepare\u001b[0;34m(self, download_dir, download_config)\u001b[0m\n\u001b[1;32m    377\u001b[0m           self._download_and_prepare(\n\u001b[1;32m    378\u001b[0m               \u001b[0mdl_manager\u001b[0m\u001b[0;34m=\u001b[0m\u001b[0mdl_manager\u001b[0m\u001b[0;34m,\u001b[0m\u001b[0;34m\u001b[0m\u001b[0;34m\u001b[0m\u001b[0m\n\u001b[0;32m--> 379\u001b[0;31m               download_config=download_config)\n\u001b[0m\u001b[1;32m    380\u001b[0m \u001b[0;34m\u001b[0m\u001b[0m\n\u001b[1;32m    381\u001b[0m           \u001b[0;31m# NOTE: If modifying the lines below to put additional information in\u001b[0m\u001b[0;34m\u001b[0m\u001b[0;34m\u001b[0m\u001b[0;34m\u001b[0m\u001b[0m\n",
      "\u001b[0;32m/opt/conda/lib/python3.7/site-packages/tensorflow_datasets/core/dataset_builder.py\u001b[0m in \u001b[0;36m_download_and_prepare\u001b[0;34m(self, dl_manager, download_config)\u001b[0m\n\u001b[1;32m   1031\u001b[0m     super(GeneratorBasedBuilder, self)._download_and_prepare(\n\u001b[1;32m   1032\u001b[0m         \u001b[0mdl_manager\u001b[0m\u001b[0;34m=\u001b[0m\u001b[0mdl_manager\u001b[0m\u001b[0;34m,\u001b[0m\u001b[0;34m\u001b[0m\u001b[0;34m\u001b[0m\u001b[0m\n\u001b[0;32m-> 1033\u001b[0;31m         \u001b[0mmax_examples_per_split\u001b[0m\u001b[0;34m=\u001b[0m\u001b[0mdownload_config\u001b[0m\u001b[0;34m.\u001b[0m\u001b[0mmax_examples_per_split\u001b[0m\u001b[0;34m,\u001b[0m\u001b[0;34m\u001b[0m\u001b[0;34m\u001b[0m\u001b[0m\n\u001b[0m\u001b[1;32m   1034\u001b[0m     )\n\u001b[1;32m   1035\u001b[0m \u001b[0;34m\u001b[0m\u001b[0m\n",
      "\u001b[0;32m/opt/conda/lib/python3.7/site-packages/tensorflow_datasets/core/dataset_builder.py\u001b[0m in \u001b[0;36m_download_and_prepare\u001b[0;34m(self, dl_manager, **prepare_split_kwargs)\u001b[0m\n\u001b[1;32m    953\u001b[0m \u001b[0;34m\u001b[0m\u001b[0m\n\u001b[1;32m    954\u001b[0m       \u001b[0;31m# Prepare split will record examples associated to the split\u001b[0m\u001b[0;34m\u001b[0m\u001b[0;34m\u001b[0m\u001b[0;34m\u001b[0m\u001b[0m\n\u001b[0;32m--> 955\u001b[0;31m       \u001b[0mself\u001b[0m\u001b[0;34m.\u001b[0m\u001b[0m_prepare_split\u001b[0m\u001b[0;34m(\u001b[0m\u001b[0msplit_generator\u001b[0m\u001b[0;34m,\u001b[0m \u001b[0;34m**\u001b[0m\u001b[0mprepare_split_kwargs\u001b[0m\u001b[0;34m)\u001b[0m\u001b[0;34m\u001b[0m\u001b[0;34m\u001b[0m\u001b[0m\n\u001b[0m\u001b[1;32m    956\u001b[0m \u001b[0;34m\u001b[0m\u001b[0m\n\u001b[1;32m    957\u001b[0m     \u001b[0;31m# Update the info object with the splits.\u001b[0m\u001b[0;34m\u001b[0m\u001b[0;34m\u001b[0m\u001b[0;34m\u001b[0m\u001b[0m\n",
      "\u001b[0;32m/opt/conda/lib/python3.7/site-packages/tensorflow_datasets/core/dataset_builder.py\u001b[0m in \u001b[0;36m_prepare_split\u001b[0;34m(self, split_generator, max_examples_per_split)\u001b[0m\n\u001b[1;32m   1046\u001b[0m                                      hash_salt=split_generator.name)\n\u001b[1;32m   1047\u001b[0m     for key, record in utils.tqdm(generator, unit=\" examples\",\n\u001b[0;32m-> 1048\u001b[0;31m                                   total=split_info.num_examples, leave=False):\n\u001b[0m\u001b[1;32m   1049\u001b[0m       \u001b[0mexample\u001b[0m \u001b[0;34m=\u001b[0m \u001b[0mself\u001b[0m\u001b[0;34m.\u001b[0m\u001b[0minfo\u001b[0m\u001b[0;34m.\u001b[0m\u001b[0mfeatures\u001b[0m\u001b[0;34m.\u001b[0m\u001b[0mencode_example\u001b[0m\u001b[0;34m(\u001b[0m\u001b[0mrecord\u001b[0m\u001b[0;34m)\u001b[0m\u001b[0;34m\u001b[0m\u001b[0;34m\u001b[0m\u001b[0m\n\u001b[1;32m   1050\u001b[0m       \u001b[0mwriter\u001b[0m\u001b[0;34m.\u001b[0m\u001b[0mwrite\u001b[0m\u001b[0;34m(\u001b[0m\u001b[0mkey\u001b[0m\u001b[0;34m,\u001b[0m \u001b[0mexample\u001b[0m\u001b[0;34m)\u001b[0m\u001b[0;34m\u001b[0m\u001b[0;34m\u001b[0m\u001b[0m\n",
      "\u001b[0;32m/opt/conda/lib/python3.7/site-packages/tqdm/notebook.py\u001b[0m in \u001b[0;36m__iter__\u001b[0;34m(self, *args, **kwargs)\u001b[0m\n\u001b[1;32m    226\u001b[0m     \u001b[0;32mdef\u001b[0m \u001b[0m__iter__\u001b[0m\u001b[0;34m(\u001b[0m\u001b[0mself\u001b[0m\u001b[0;34m,\u001b[0m \u001b[0;34m*\u001b[0m\u001b[0margs\u001b[0m\u001b[0;34m,\u001b[0m \u001b[0;34m**\u001b[0m\u001b[0mkwargs\u001b[0m\u001b[0;34m)\u001b[0m\u001b[0;34m:\u001b[0m\u001b[0;34m\u001b[0m\u001b[0;34m\u001b[0m\u001b[0m\n\u001b[1;32m    227\u001b[0m         \u001b[0;32mtry\u001b[0m\u001b[0;34m:\u001b[0m\u001b[0;34m\u001b[0m\u001b[0;34m\u001b[0m\u001b[0m\n\u001b[0;32m--> 228\u001b[0;31m             \u001b[0;32mfor\u001b[0m \u001b[0mobj\u001b[0m \u001b[0;32min\u001b[0m \u001b[0msuper\u001b[0m\u001b[0;34m(\u001b[0m\u001b[0mtqdm_notebook\u001b[0m\u001b[0;34m,\u001b[0m \u001b[0mself\u001b[0m\u001b[0;34m)\u001b[0m\u001b[0;34m.\u001b[0m\u001b[0m__iter__\u001b[0m\u001b[0;34m(\u001b[0m\u001b[0;34m*\u001b[0m\u001b[0margs\u001b[0m\u001b[0;34m,\u001b[0m \u001b[0;34m**\u001b[0m\u001b[0mkwargs\u001b[0m\u001b[0;34m)\u001b[0m\u001b[0;34m:\u001b[0m\u001b[0;34m\u001b[0m\u001b[0;34m\u001b[0m\u001b[0m\n\u001b[0m\u001b[1;32m    229\u001b[0m                 \u001b[0;31m# return super(tqdm...) will not catch exception\u001b[0m\u001b[0;34m\u001b[0m\u001b[0;34m\u001b[0m\u001b[0;34m\u001b[0m\u001b[0m\n\u001b[1;32m    230\u001b[0m                 \u001b[0;32myield\u001b[0m \u001b[0mobj\u001b[0m\u001b[0;34m\u001b[0m\u001b[0;34m\u001b[0m\u001b[0m\n",
      "\u001b[0;32m/opt/conda/lib/python3.7/site-packages/tqdm/std.py\u001b[0m in \u001b[0;36m__iter__\u001b[0;34m(self)\u001b[0m\n\u001b[1;32m   1128\u001b[0m \u001b[0;34m\u001b[0m\u001b[0m\n\u001b[1;32m   1129\u001b[0m         \u001b[0;32mtry\u001b[0m\u001b[0;34m:\u001b[0m\u001b[0;34m\u001b[0m\u001b[0;34m\u001b[0m\u001b[0m\n\u001b[0;32m-> 1130\u001b[0;31m             \u001b[0;32mfor\u001b[0m \u001b[0mobj\u001b[0m \u001b[0;32min\u001b[0m \u001b[0miterable\u001b[0m\u001b[0;34m:\u001b[0m\u001b[0;34m\u001b[0m\u001b[0;34m\u001b[0m\u001b[0m\n\u001b[0m\u001b[1;32m   1131\u001b[0m                 \u001b[0;32myield\u001b[0m \u001b[0mobj\u001b[0m\u001b[0;34m\u001b[0m\u001b[0;34m\u001b[0m\u001b[0m\n\u001b[1;32m   1132\u001b[0m                 \u001b[0;31m# Update and possibly print the progressbar.\u001b[0m\u001b[0;34m\u001b[0m\u001b[0;34m\u001b[0m\u001b[0;34m\u001b[0m\u001b[0m\n",
      "\u001b[0;32m/opt/conda/lib/python3.7/site-packages/tensorflow_datasets/image/brats_2015.py\u001b[0m in \u001b[0;36m_generate_examples\u001b[0;34m(self, filepath)\u001b[0m\n\u001b[1;32m     77\u001b[0m     \u001b[0;31m# TODO(brats_2015): Yields (key, example) tuples from the dataset\u001b[0m\u001b[0;34m\u001b[0m\u001b[0;34m\u001b[0m\u001b[0;34m\u001b[0m\u001b[0m\n\u001b[1;32m     78\u001b[0m     \u001b[0mbrats\u001b[0m \u001b[0;34m=\u001b[0m \u001b[0mfilepath\u001b[0m \u001b[0;34m+\u001b[0m\u001b[0;34m'/BRATS2015_Training'\u001b[0m\u001b[0;34m\u001b[0m\u001b[0;34m\u001b[0m\u001b[0m\n\u001b[0;32m---> 79\u001b[0;31m     \u001b[0;32mfor\u001b[0m \u001b[0mtumor_type\u001b[0m \u001b[0;32min\u001b[0m \u001b[0mtf\u001b[0m\u001b[0;34m.\u001b[0m\u001b[0mio\u001b[0m\u001b[0;34m.\u001b[0m\u001b[0mgfile\u001b[0m\u001b[0;34m.\u001b[0m\u001b[0mlistdir\u001b[0m\u001b[0;34m(\u001b[0m\u001b[0mbrats\u001b[0m\u001b[0;34m)\u001b[0m\u001b[0;34m:\u001b[0m\u001b[0;34m\u001b[0m\u001b[0;34m\u001b[0m\u001b[0m\n\u001b[0m\u001b[1;32m     80\u001b[0m         \u001b[0;32mif\u001b[0m \u001b[0mtumor_type\u001b[0m\u001b[0;34m.\u001b[0m\u001b[0mstartswith\u001b[0m\u001b[0;34m(\u001b[0m\u001b[0;34m'.'\u001b[0m\u001b[0;34m)\u001b[0m\u001b[0;34m:\u001b[0m\u001b[0;34m\u001b[0m\u001b[0;34m\u001b[0m\u001b[0m\n\u001b[1;32m     81\u001b[0m             \u001b[0;32mpass\u001b[0m\u001b[0;34m\u001b[0m\u001b[0;34m\u001b[0m\u001b[0m\n",
      "\u001b[0;32m/opt/conda/lib/python3.7/site-packages/tensorflow/python/lib/io/file_io.py\u001b[0m in \u001b[0;36mlist_directory_v2\u001b[0;34m(path)\u001b[0m\n\u001b[1;32m    692\u001b[0m         \u001b[0mnode_def\u001b[0m\u001b[0;34m=\u001b[0m\u001b[0;32mNone\u001b[0m\u001b[0;34m,\u001b[0m\u001b[0;34m\u001b[0m\u001b[0;34m\u001b[0m\u001b[0m\n\u001b[1;32m    693\u001b[0m         \u001b[0mop\u001b[0m\u001b[0;34m=\u001b[0m\u001b[0;32mNone\u001b[0m\u001b[0;34m,\u001b[0m\u001b[0;34m\u001b[0m\u001b[0;34m\u001b[0m\u001b[0m\n\u001b[0;32m--> 694\u001b[0;31m         message=\"Could not find directory {}\".format(path))\n\u001b[0m\u001b[1;32m    695\u001b[0m \u001b[0;34m\u001b[0m\u001b[0m\n\u001b[1;32m    696\u001b[0m   \u001b[0;31m# Convert each element to string, since the return values of the\u001b[0m\u001b[0;34m\u001b[0m\u001b[0;34m\u001b[0m\u001b[0;34m\u001b[0m\u001b[0m\n",
      "\u001b[0;31mNotFoundError\u001b[0m: Could not find directory /home/jupyter/tensorflow_datasets/downloads/manual/BRATS2015_Training"
     ]
    }
   ],
   "source": [
    "data = tfds.load('Brats2015')\n",
    "ds_iter = iter(data['train'])\n",
    "ds_iter"
   ]
  },
  {
   "cell_type": "code",
   "execution_count": 6,
   "metadata": {},
   "outputs": [
    {
     "data": {
      "text/plain": [
       "{'image': <tf.Tensor: shape=(240, 240), dtype=int16, numpy=\n",
       " array([[0, 0, 0, ..., 0, 0, 0],\n",
       "        [0, 0, 0, ..., 0, 0, 0],\n",
       "        [0, 0, 0, ..., 0, 0, 0],\n",
       "        ...,\n",
       "        [0, 0, 0, ..., 0, 0, 0],\n",
       "        [0, 0, 0, ..., 0, 0, 0],\n",
       "        [0, 0, 0, ..., 0, 0, 0]], dtype=int16)>,\n",
       " 'mask': <tf.Tensor: shape=(240, 240), dtype=int16, numpy=\n",
       " array([[0, 0, 0, ..., 0, 0, 0],\n",
       "        [0, 0, 0, ..., 0, 0, 0],\n",
       "        [0, 0, 0, ..., 0, 0, 0],\n",
       "        ...,\n",
       "        [0, 0, 0, ..., 0, 0, 0],\n",
       "        [0, 0, 0, ..., 0, 0, 0],\n",
       "        [0, 0, 0, ..., 0, 0, 0]], dtype=int16)>,\n",
       " 'modality': <tf.Tensor: shape=(), dtype=string, numpy=b'T2'>,\n",
       " 'type': <tf.Tensor: shape=(), dtype=string, numpy=b'HGG'>}"
      ]
     },
     "execution_count": 6,
     "metadata": {},
     "output_type": "execute_result"
    }
   ],
   "source": [
    "sample = next(ds_iter)\n",
    "sample"
   ]
  },
  {
   "cell_type": "code",
   "execution_count": 7,
   "metadata": {},
   "outputs": [
    {
     "data": {
      "image/png": "[encoded data removed]",
      "text/plain": [
       "<Figure size 720x720 with 2 Axes>"
      ]
     },
     "metadata": {},
     "output_type": "display_data"
    }
   ],
   "source": [
    "import matplotlib.pyplot as plt\n",
    "image = sample['image']\n",
    "mask = sample['mask']\n",
    "fig, axes = plt.subplots(1,2, figsize=(10,10))\n",
    "axes[0].imshow(tf.squeeze(image))\n",
    "axes[0].set_title('Image')\n",
    "axes[1].imshow(tf.squeeze(mask))\n",
    "axes[1].set_title('Mask')\n",
    "plt.suptitle(sample['modality'].numpy().decode(\"utf-8\") +' '+ sample['type'].numpy().decode(\"utf-8\") )\n",
    "plt.show()"
   ]
  },
  {
   "cell_type": "code",
   "execution_count": null,
   "metadata": {},
   "outputs": [],
   "source": [
    "import tensorflow_datasets.public_api as tfds\n",
    "\n",
    "# TODO(brats_2015): BibTeX citation\n",
    "_CITATION = \"\"\"\n",
    "\"\"\"\n",
    "\n",
    "# TODO(brats_2015):\n",
    "_DESCRIPTION = \"\"\"\n",
    "\"\"\"\n",
    "\n",
    "\n",
    "class Brats2015(tfds.core.GeneratorBasedBuilder):\n",
    "  \"\"\"TODO(brats_2015): Short description of my dataset.\"\"\"\n",
    "\n",
    "  # TODO(brats_2015): Set up version.\n",
    "  VERSION = tfds.core.Version('0.1.0')\n",
    "\n",
    "  def _info(self):\n",
    "    # TODO(brats_2015): Specifies the tfds.core.DatasetInfo object\n",
    "    return tfds.core.DatasetInfo(\n",
    "        builder=self,\n",
    "        # This is the description that will appear on the datasets page.\n",
    "        description=_DESCRIPTION,\n",
    "        # tfds.features.FeatureConnectors\n",
    "        features=tfds.features.FeaturesDict({\n",
    "        ## Tumor Type\n",
    "        'type' : tfds.features.Text(),\n",
    "        ## Modality\n",
    "        'modality': tfds.features.Text(),\n",
    "        #The MRI image\n",
    "        'image' : tfds.features.Tensor(shape=(240,240),dtype=tf.int16),\n",
    "        ## The mask\n",
    "        'mask' : tfds.features.Tensor(shape=(240,240),dtype = tf.int8),\n",
    "        \n",
    "        }),\n",
    "        # If there's a common (input, target) tuple from the features,\n",
    "        # specify them here. They'll be used if as_supervised=True in\n",
    "        # builder.as_dataset.\n",
    "        supervised_keys=('image','mask'),\n",
    "        # Homepage of the dataset for documentation\n",
    "        homepage='https://dataset-homepage/',\n",
    "        citation=_CITATION,\n",
    "    )\n",
    "\n",
    "  def _split_generators(self, dl_manager):\n",
    "    \"\"\"Returns SplitGenerators.\"\"\"\n",
    "    # TODO(brats_2015): Downloads the data and defines the splits\n",
    "    # dl_manager is a tfds.download.DownloadManager that can be used to\n",
    "    # download and extract URLs\n",
    "    if not tf.io.gfile.exists(dl_manager.manual_dir):\n",
    "        msg = \"You must download the dataset files manually and place them in: \"\n",
    "        msg += dl_manager.manual_dir\n",
    "        raise AssertionError(msg)\n",
    "        \n",
    "    # There is no predefined train/val/test split for this dataset\n",
    "    return [\n",
    "        tfds.core.SplitGenerator(\n",
    "            name=tfds.Split.TRAIN,\n",
    "            gen_kwargs={\n",
    "                \"filepath\": dl_manager.manual_dir\n",
    "            },\n",
    "        ),\n",
    "    ]\n",
    "  def _generate_examples(self,filepath=None):\n",
    "    \"\"\"Yields examples.\"\"\"\n",
    "    # TODO(brats_2015): Yields (key, example) tuples from the dataset\n",
    "    yield 'key', {}\n",
    "\n"
   ]
  },
  {
   "cell_type": "code",
   "execution_count": null,
   "metadata": {},
   "outputs": [],
   "source": [
    "test = Brats2015()\n",
    "test._split_generators()"
   ]
  },
  {
   "cell_type": "code",
   "execution_count": 4,
   "metadata": {},
   "outputs": [],
   "source": [
    "filepath ='/Users/Jingjing/tensorflow_datasets/downloads/manual'"
   ]
  },
  {
   "cell_type": "code",
   "execution_count": 3,
   "metadata": {},
   "outputs": [
    {
     "data": {
      "text/plain": [
       "'/home/jupyter/tensorflow_datasets/downloads/manual/BRATS2015_Training'"
      ]
     },
     "execution_count": 3,
     "metadata": {},
     "output_type": "execute_result"
    }
   ],
   "source": [
    "brats = '/home/jupyter/tensorflow_datasets/downloads/manual/BRATS2015_Training'\n",
    "brats"
   ]
  },
  {
   "cell_type": "code",
   "execution_count": null,
   "metadata": {},
   "outputs": [],
   "source": [
    "for tumor_type in tf.io.gfile.listdir(brats):\n",
    "    if tumor_type.startswith('.'):\n",
    "        pass\n",
    "    else:\n",
    "        tumor_type_path = os.path.join(brats,tumor_type)\n",
    "        for pat in tf.io.gfile.listdir(tumor_type_path):\n",
    "            if pat.startswith('.'):\n",
    "                pass\n",
    "            else:\n",
    "                pat_path = os.path.join(tumor_type_path,pat)\n",
    "                image_files = []\n",
    "                for file in tf.io.gfile.listdir(pat_path):\n",
    "\n",
    "                    if 'OT.' in file:\n",
    "                        for image in tf.io.gfile.listdir(os.path.join(pat_path,file)):\n",
    "                            if image.endswith('.mha'):\n",
    "                                mask_file = os.path.join(pat_path,file,image)\n",
    "                                break\n",
    "\n",
    "                    elif 'T1.' in file:\n",
    "                        for image in tf.io.gfile.listdir(os.path.join(pat_path,file)):\n",
    "                            if image.endswith('.mha'):\n",
    "                                t1_file = os.path.join(pat_path,file,image)\n",
    "                                break\n",
    "                    elif 'T1c.' in file:\n",
    "                        for image in tf.io.gfile.listdir(os.path.join(pat_path,file)):\n",
    "                            if image.endswith('.mha'):\n",
    "                                t1c_file = os.path.join(pat_path,file,image)\n",
    "                                break\n",
    "                    elif 'T2.' in file:\n",
    "                        for image in tf.io.gfile.listdir(os.path.join(pat_path,file)):\n",
    "                            if image.endswith('.mha'):\n",
    "                                t2_file = os.path.join(pat_path,file,image)\n",
    "                                break\n",
    "                    elif 'Flair.' in file:\n",
    "                        for image in tf.io.gfile.listdir(os.path.join(pat_path,file)):\n",
    "                            if image.endswith('.mha'):\n",
    "                                flair_file = os.path.join(pat_path,file,image)\n",
    "                                break\n",
    "                mask_array,mask_header = load(mask_file)\n",
    "                t1_array,t1_header = load(t1_file)\n",
    "                t1c_array,t1c_header = load(t1c_file)\n",
    "                t2_array,t2_header = load(t2_file)\n",
    "                flair_array,flair_header = load(flair_file)\n",
    "                total_slices = mask_array.shape[2]\n",
    "                for current_slice in range(0,total_slices):\n",
    "                    key = image.split('/')[-1].split('.')[-2]+'_'+modality+'_'+str(current_slice+1)\n",
    "                    yield(key,\n",
    "                         {\n",
    "                             'type' : tumor_type,\n",
    "                             'mask' : mask_array[:,:,current_slice],\n",
    "                             't1',t1_array[:,:,current_slice],\n",
    "                             't2',t2_array[:,:,current_slice],\n",
    "                             't1c',t1c_array[:,:,current_slice],\n",
    "                             'flair',flair_array[:,:,current_slice]\n",
    "                         })"
   ]
  },
  {
   "cell_type": "code",
   "execution_count": null,
   "metadata": {},
   "outputs": [],
   "source": [
    "for tumor_type in tf.io.gfile.listdir(brats):\n",
    "    if tumor_type.startswith('.'):\n",
    "        pass\n",
    "    else:\n",
    "        tumor_type_path = os.path.join(brats,tumor_type)\n",
    "        for pat in tf.io.gfile.listdir(tumor_type_path):\n",
    "            if pat.startswith('.'):\n",
    "                pass\n",
    "            else:\n",
    "                pat_path = os.path.join(tumor_type_path,pat)\n",
    "                image_files = []\n",
    "                for file in tf.io.gfile.listdir(pat_path):\n",
    "\n",
    "                    if 'OT.' in file:\n",
    "                        for image in tf.io.gfile.listdir(os.path.join(pat_path,file)):\n",
    "                            if image.endswith('.mha'):\n",
    "                                mask_file = os.path.join(pat_path,file,image)\n",
    "                                break\n",
    "\n",
    "                    else:\n",
    "                        for image in tf.io.gfile.listdir(os.path.join(pat_path,file)):\n",
    "                            if image.endswith('.mha'):\n",
    "                                image_files.append(os.path.join(pat_path,file,image))\n",
    "                mask_array,mask_header = load(mask_file)\n",
    "                total_slices = mask_array.shape[2]\n",
    "                for image in image_files:\n",
    "                    modality = image.split('/')[-1].split('.')[-3].split('_')[-1]\n",
    "                    image_array, image_header = load(image)\n",
    "                    for current_slice in range(0,total_slices):\n",
    "                        key = image.split('/')[-1].split('.')[-2]+'_'+modality+'_'+str(current_slice+1)\n",
    "                        yield( key,\n",
    "                                        {\n",
    "                                                \n",
    "                                                'type' : tumor_type,\n",
    "                                                'modality': modality,\n",
    "                                                'image':image_array[:,:,current_slice],\n",
    "                                                'mask' : mask_array[:,:,current_slice],\n",
    "\n",
    "                                        })"
   ]
  },
  {
   "cell_type": "code",
   "execution_count": null,
   "metadata": {},
   "outputs": [],
   "source": [
    "mask_array,mask_header = load(mask_file)\n",
    "total_slices = mask_array.shape[2]\n",
    "for image in image_files:\n",
    "                modality = image.split('/')[-1].split('.')[-3].split('_')[-1]\n",
    "                image_array, image_header = load(image)\n",
    "                for current_slice in range(0,total_slices):\n",
    "                    print(image.split('/')[-1].split('.')[-2]+'_'+modality+'_'+str(current_slice+1))\n",
    "                    print('image',image_array[:,:,current_slice].shape)\n",
    "                    print('mask',mask_array[:,:,current_slice].shape)\n",
    "                    print(modality)\n",
    "\n",
    "        "
   ]
  },
  {
   "cell_type": "code",
   "execution_count": 6,
   "metadata": {},
   "outputs": [],
   "source": [
    "for tumor_type in tf.io.gfile.listdir(brats):\n",
    "    if tumor_type.startswith('.'):\n",
    "        pass\n",
    "    else:\n",
    "        tumor_type_path = os.path.join(brats,tumor_type)\n",
    "        for pat in tf.io.gfile.listdir(tumor_type_path):\n",
    "            if pat.startswith('.'):\n",
    "                pass\n",
    "            else:\n",
    "                pat_path = os.path.join(tumor_type_path,pat)\n",
    "                image_files = []\n",
    "                for file in tf.io.gfile.listdir(pat_path):\n",
    "                    if file.startswith('.'):\n",
    "                        pass\n",
    "                    else:\n",
    "                        if 'OT.' in file:\n",
    "                            for image in tf.io.gfile.listdir(os.path.join(pat_path,file)):\n",
    "                                if image.endswith('.mha'):\n",
    "                                    mask_file = os.path.join(pat_path,file,image)\n",
    "                                    break\n",
    "\n",
    "                        else:\n",
    "                            for image in tf.io.gfile.listdir(os.path.join(pat_path,file)):\n",
    "                                if image.endswith('.mha'):\n",
    "                                    image_files.append(os.path.join(pat_path,file,image))"
   ]
  },
  {
   "cell_type": "code",
   "execution_count": 5,
   "metadata": {},
   "outputs": [],
   "source": [
    "mask_file='/Users/Jingjing/tensorflow_datasets/downloads/manual/BRATS2015_Training/LGG/brats_tcia_pat261_0001/VSD.Brain_3more.XX.O.OT.42485/VSD.Brain_3more.XX.O.OT.42485.mha'"
   ]
  },
  {
   "cell_type": "code",
   "execution_count": 7,
   "metadata": {},
   "outputs": [
    {
     "data": {
      "text/plain": [
       "dtype('int16')"
      ]
     },
     "execution_count": 7,
     "metadata": {},
     "output_type": "execute_result"
    }
   ],
   "source": [
    "mask_array,mask_header = load(mask_file)\n",
    "mask_array  = mask_array.astype('int16')\n",
    "mask_array.dtype"
   ]
  },
  {
   "cell_type": "code",
   "execution_count": null,
   "metadata": {},
   "outputs": [],
   "source": []
  }
 ],
 "metadata": {
  "environment": {
   "name": "tf2-2-3-gpu.2-3.m56",
   "type": "gcloud",
   "uri": "gcr.io/deeplearning-platform-release/tf2-2-3-gpu.2-3:m56"
  },
  "kernelspec": {
   "display_name": "Python 3",
   "language": "python",
   "name": "python3"
  },
  "language_info": {
   "codemirror_mode": {
    "name": "ipython",
    "version": 3
   },
   "file_extension": ".py",
   "mimetype": "text/x-python",
   "name": "python",
   "nbconvert_exporter": "python",
   "pygments_lexer": "ipython3",
   "version": "3.7.8"
  }
 },
 "nbformat": 4,
 "nbformat_minor": 4
}
