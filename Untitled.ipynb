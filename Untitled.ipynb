{
 "cells": [
  {
   "cell_type": "code",
   "execution_count": 3,
   "metadata": {},
   "outputs": [],
   "source": [
    "import tensorflow as tf\n",
    "import tensorflow_datasets as tfds\n"
   ]
  },
  {
   "cell_type": "code",
   "execution_count": 4,
   "metadata": {},
   "outputs": [],
   "source": [
    "ds_labels = tfds.load('isic2019/labels_only', split = 'train')"
   ]
  },
  {
   "cell_type": "code",
   "execution_count": 5,
   "metadata": {},
   "outputs": [
    {
     "data": {
      "text/plain": [
       "{'image': <tf.Tensor: shape=(1024, 1024, 3), dtype=uint8, numpy=\n",
       " array([[[14, 13, 11],\n",
       "         [13, 12, 10],\n",
       "         [12, 12, 10],\n",
       "         ...,\n",
       "         [ 0,  4,  0],\n",
       "         [ 3,  3,  1],\n",
       "         [ 1,  1,  0]],\n",
       " \n",
       "        [[13, 12, 10],\n",
       "         [14, 13, 11],\n",
       "         [13, 13, 11],\n",
       "         ...,\n",
       "         [ 0,  4,  0],\n",
       "         [ 1,  3,  0],\n",
       "         [ 1,  3,  0]],\n",
       " \n",
       "        [[14, 15, 10],\n",
       "         [13, 14,  9],\n",
       "         [14, 15, 10],\n",
       "         ...,\n",
       "         [ 0,  5,  1],\n",
       "         [ 0,  3,  2],\n",
       "         [ 0,  3,  2]],\n",
       " \n",
       "        ...,\n",
       " \n",
       "        [[21, 21, 19],\n",
       "         [24, 24, 22],\n",
       "         [23, 23, 21],\n",
       "         ...,\n",
       "         [11, 13, 10],\n",
       "         [10, 10, 10],\n",
       "         [ 9,  9,  9]],\n",
       " \n",
       "        [[22, 21, 19],\n",
       "         [22, 21, 19],\n",
       "         [23, 24, 19],\n",
       "         ...,\n",
       "         [ 9, 11,  8],\n",
       "         [ 8, 10,  9],\n",
       "         [ 8, 10,  9]],\n",
       " \n",
       "        [[22, 21, 19],\n",
       "         [20, 19, 17],\n",
       "         [22, 23, 18],\n",
       "         ...,\n",
       "         [ 8, 10,  7],\n",
       "         [ 9, 11, 10],\n",
       "         [ 8, 10,  9]]], dtype=uint8)>,\n",
       " 'image_name': <tf.Tensor: shape=(), dtype=string, numpy=b'ISIC_0068631'>,\n",
       " 'label': <tf.Tensor: shape=(), dtype=int64, numpy=1>}"
      ]
     },
     "execution_count": 5,
     "metadata": {},
     "output_type": "execute_result"
    }
   ],
   "source": [
    "next(iter(ds_labels))"
   ]
  }
 ],
 "metadata": {
  "environment": {
   "name": "tf2-2-3-gpu.2-3.m55",
   "type": "gcloud",
   "uri": "gcr.io/deeplearning-platform-release/tf2-2-3-gpu.2-3:m55"
  },
  "kernelspec": {
   "display_name": "Python 3",
   "language": "python",
   "name": "python3"
  },
  "language_info": {
   "codemirror_mode": {
    "name": "ipython",
    "version": 3
   },
   "file_extension": ".py",
   "mimetype": "text/x-python",
   "name": "python",
   "nbconvert_exporter": "python",
   "pygments_lexer": "ipython3",
   "version": "3.7.8"
  }
 },
 "nbformat": 4,
 "nbformat_minor": 4
}
