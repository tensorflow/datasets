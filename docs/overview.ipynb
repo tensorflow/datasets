{
  "nbformat": 4,
  "nbformat_minor": 0,
  "metadata": {
    "colab": {
      "name": "tensorflow/datasets",
      "version": "0.3.2",
      "provenance": [],
      "collapsed_sections": []
    },
    "kernelspec": {
      "display_name": "Python 3",
      "name": "python3"
    }
  },
  "cells": [
    {
      "metadata": {
        "colab_type": "text",
        "id": "6XvCUmCEd4Dm"
      },
      "cell_type": "markdown",
      "source": [
        "# TensorFlow Datasets\n",
        "\n",
        "TensorFlow Datasets provides a collection of datasets ready to use with TensorFlow. It handles downloading and preparing the data and constructing a [`tf.data.Dataset`](https://www.tensorflow.org/api_docs/python/tf/data/Dataset)."
      ]
    },
    {
      "metadata": {
        "colab_type": "text",
        "id": "J8y9ZkLXmAZc"
      },
      "cell_type": "markdown",
      "source": [
        "Copyright 2018 The TensorFlow Datasets Authors, Licensed under the Apache License, Version 2.0"
      ]
    },
    {
      "metadata": {
        "colab_type": "text",
        "id": "OGw9EgE0tC0C"
      },
      "cell_type": "markdown",
      "source": [
        "<table class=\"tfo-notebook-buttons\" align=\"left\">\n",
        "  <td>\n",
        "    <a target=\"_blank\" href=\"https://www.tensorflow.org/datasets/overview\"><img src=\"https://www.tensorflow.org/images/tf_logo_32px.png\" />View on TensorFlow.org</a>\n",
        "  </td>\n",
        "  <td>\n",
        "    <a target=\"_blank\" href=\"https://colab.research.google.com/github/tensorflow/datasets/blob/master/docs/overview.ipynb\"><img src=\"https://www.tensorflow.org/images/colab_logo_32px.png\" />Run in Google Colab</a>\n",
        "  </td>\n",
        "  <td>\n",
        "    <a target=\"_blank\" href=\"https://github.com/tensorflow/datasets/blob/master/docs/overview.ipynb\"><img src=\"https://www.tensorflow.org/images/GitHub-Mark-32px.png\" />View source on GitHub</a>\n",
        "  </td>\n",
        "</table>"
      ]
    },
    {
      "metadata": {
        "colab_type": "text",
        "id": "_7hshda5eaGL"
      },
      "cell_type": "markdown",
      "source": [
        "## Installation\n",
        "\n",
        "`pip install tensorflow-datasets`\n",
        "\n",
        "Note that `tensorflow-datasets` expects you to have TensorFlow already installed, and currently depends on `tensorflow` (or `tensorflow-gpu`) >= `1.13.0`."
      ]
    },
    {
      "metadata": {
        "cellView": "both",
        "colab_type": "code",
        "id": "boeZp0sYbO41",
        "colab": {}
      },
      "cell_type": "code",
      "source": [
        "!pip install -q tensorflow tensorflow-datasets matplotlib"
      ],
      "execution_count": 0,
      "outputs": []
    },
    {
      "metadata": {
        "colab_type": "code",
        "id": "TTBSvHcSLBzc",
        "colab": {}
      },
      "cell_type": "code",
      "source": [
        "from __future__ import absolute_import\n",
        "from __future__ import division\n",
        "from __future__ import print_function\n",
        "\n",
        "import matplotlib.pyplot as plt\n",
        "import numpy as np\n",
        "import tensorflow as tf\n",
        "\n",
        "import tensorflow_datasets as tfds"
      ],
      "execution_count": 0,
      "outputs": []
    },
    {
      "metadata": {
        "colab_type": "text",
        "id": "8-ZBEd6Ie28N"
      },
      "cell_type": "markdown",
      "source": [
        "## Eager execution\n",
        "\n",
        "TensorFlow Datasets is compatible with both TensorFlow [Eager mode](https://www.tensorflow.org/guide/eager) and Graph mode. For this colab, we'll run in Eager mode."
      ]
    },
    {
      "metadata": {
        "colab_type": "code",
        "id": "o9H2EiXzfNgO",
        "colab": {}
      },
      "cell_type": "code",
      "source": [
        "tf.enable_eager_execution()"
      ],
      "execution_count": 0,
      "outputs": []
    },
    {
      "metadata": {
        "colab_type": "text",
        "id": "VZZyuO13fPvk"
      },
      "cell_type": "markdown",
      "source": [
        "## List the available datasets\n",
        "\n",
        "Each dataset is implemented as a [`tfds.core.DatasetBuilder`](https://www.tensorflow.org/datasets/api_docs/python/tfds/core/DatasetBuilder) and you can list all available builders with `tfds.list_builders()`.\n",
        "\n",
        "You can see all the datasets with additional documentation on the [datasets documentation page](https://github.com/tensorflow/datasets/blob/master/docs/datasets.md)."
      ]
    },
    {
      "metadata": {
        "colab_type": "code",
        "id": "FAvbSVzjLCIb",
        "outputId": "79f354d8-746a-4fac-ab34-86225904ee46",
        "colab": {
          "base_uri": "https://localhost:8080/",
          "height": 181
        }
      },
      "cell_type": "code",
      "source": [
        "tfds.list_builders()"
      ],
      "execution_count": 4,
      "outputs": [
        {
          "output_type": "execute_result",
          "data": {
            "text/plain": [
              "['bair_robot_pushing',\n",
              " 'celeb_a',\n",
              " 'cifar10',\n",
              " 'cifar100',\n",
              " 'diabetic_retinopathy_detection',\n",
              " 'fashion_mnist',\n",
              " 'image_label_folder',\n",
              " 'imdb_reviews',\n",
              " 'mnist']"
            ]
          },
          "metadata": {
            "tags": []
          },
          "execution_count": 4
        }
      ]
    },
    {
      "metadata": {
        "colab_type": "text",
        "id": "VjI6VgOBf0v0"
      },
      "cell_type": "markdown",
      "source": [
        "## `tfds.load`: A dataset in one line\n",
        "\n",
        "[`tfds.load`](https://www.tensorflow.org/datasets/api_docs/python/tfds/load) is a convenience method that's the simplest way to build and load and `tf.data.Dataset`.\n",
        "\n",
        "Below, we load the MNIST training data. Setting `download=True` will download and prepare the data. Note that it's safe to call `load` multiple times with `download=True` as long as the builder `name` and `data_dir` remain the same. The prepared data will be reused."
      ]
    },
    {
      "metadata": {
        "colab_type": "code",
        "id": "dCou80mnLLPV",
        "outputId": "0ee326c1-ea25-4c4b-b3dc-a7c29e9b2156",
        "colab": {
          "base_uri": "https://localhost:8080/",
          "height": 108
        }
      },
      "cell_type": "code",
      "source": [
        "mnist_train = tfds.load(name=\"mnist\", split=tfds.Split.TRAIN)\n",
        "assert isinstance(mnist_train, tf.data.Dataset)\n",
        "mnist_train"
      ],
      "execution_count": 5,
      "outputs": [
        {
          "output_type": "stream",
          "text": [
            "INFO:tensorflow:Reusing dataset mnist (/root/tensorflow_datasets/mnist/1.0.0)\n",
            "WARNING:tensorflow:From /usr/local/lib/python2.7/dist-packages/tensorflow/python/ops/control_flow_ops.py:423: colocate_with (from tensorflow.python.framework.ops) is deprecated and will be removed in a future version.\n",
            "Instructions for updating:\n",
            "Colocations handled automatically by placer.\n"
          ],
          "name": "stdout"
        },
        {
          "output_type": "execute_result",
          "data": {
            "text/plain": [
              "<DatasetV1Adapter shapes: {image: (28, 28, 1), label: ()}, types: {image: tf.uint8, label: tf.int64}>"
            ]
          },
          "metadata": {
            "tags": []
          },
          "execution_count": 5
        }
      ]
    },
    {
      "metadata": {
        "colab_type": "text",
        "id": "u-GAxR79hGTr"
      },
      "cell_type": "markdown",
      "source": [
        "## Feature dictionaries\n",
        "\n",
        "All `tfds` datasets contain feature dictionaries mapping feature names to Tensor values. A typical dataset, like MNIST, will have 2 keys: `\"image\"` and `\"label\"`. Below we inspect a single example."
      ]
    },
    {
      "metadata": {
        "colab_type": "code",
        "id": "YHE21nkHLrER",
        "outputId": "2cae50b0-4f36-44b3-d858-71c36403826a",
        "colab": {
          "base_uri": "https://localhost:8080/",
          "height": 365
        }
      },
      "cell_type": "code",
      "source": [
        "mnist_example, = mnist_train.take(1)\n",
        "image, label = mnist_example[\"image\"], mnist_example[\"label\"]\n",
        "\n",
        "plt.imshow(image.numpy()[:, :, 0].astype(np.float32), cmap=plt.get_cmap(\"gray\"))\n",
        "print(\"Label: %d\" % label.numpy())"
      ],
      "execution_count": 6,
      "outputs": [
        {
          "output_type": "stream",
          "text": [
            "Label: 0\n"
          ],
          "name": "stdout"
        },
        {
          "output_type": "display_data",
          "data": {
            "image/png": "[encoded data removed]",
            "text/plain": [
              "<matplotlib.figure.Figure at 0x7f1126e11750>"
            ]
          },
          "metadata": {
            "tags": []
          }
        }
      ]
    },
    {
      "metadata": {
        "colab_type": "text",
        "id": "EW-kEK_mhbhy"
      },
      "cell_type": "markdown",
      "source": [
        "## `DatasetBuilder`\n",
        "\n",
        "`tfds.load` is really a thin conveninence wrapper around `DatasetBuilder`. We can accomplish the same as above directly with the MNIST `DatasetBuilder`."
      ]
    },
    {
      "metadata": {
        "colab_type": "code",
        "id": "9FDDJXmBhpQ4",
        "outputId": "2be38dd6-1aa3-4b63-fe8a-f4668147fb14",
        "colab": {
          "base_uri": "https://localhost:8080/",
          "height": 54
        }
      },
      "cell_type": "code",
      "source": [
        "mnist_builder = tfds.builder(\"mnist\")\n",
        "mnist_builder.download_and_prepare()\n",
        "mnist_train = mnist_builder.as_dataset(split=tfds.Split.TRAIN)\n",
        "mnist_train"
      ],
      "execution_count": 7,
      "outputs": [
        {
          "output_type": "stream",
          "text": [
            "INFO:tensorflow:Reusing dataset mnist (/root/tensorflow_datasets/mnist/1.0.0)\n"
          ],
          "name": "stdout"
        },
        {
          "output_type": "execute_result",
          "data": {
            "text/plain": [
              "<DatasetV1Adapter shapes: {image: (28, 28, 1), label: ()}, types: {image: tf.uint8, label: tf.int64}>"
            ]
          },
          "metadata": {
            "tags": []
          },
          "execution_count": 7
        }
      ]
    },
    {
      "metadata": {
        "colab_type": "text",
        "id": "7tlVOAzLlKqc"
      },
      "cell_type": "markdown",
      "source": [
        "## Input pipelines\n",
        "\n",
        "Once you have a `tf.data.Dataset` object, it's simple to define the rest of an input pipeline suitable for model training by using the [`tf.data` API](https://www.tensorflow.org/guide/datasets).\n",
        "\n",
        "Here we'll repeat the dataset so that we have an infinite stream of examples, shuffle, and create batches of 32."
      ]
    },
    {
      "metadata": {
        "colab_type": "code",
        "id": "9OQZqGZMlSE8",
        "colab": {}
      },
      "cell_type": "code",
      "source": [
        "mnist_train = mnist_train.repeat().shuffle(1024).batch(32)\n",
        "\n",
        "# prefetch will enable the input pipeline to asynchronously fetch batches while\n",
        "# your model is training.\n",
        "mnist_train = mnist_train.prefetch(tf.data.experimental.AUTOTUNE)\n",
        "\n",
        "# Now you could loop over batches of the dataset and train\n",
        "# for batch in mnist_train:\n",
        "#   ..."
      ],
      "execution_count": 0,
      "outputs": []
    },
    {
      "metadata": {
        "colab_type": "text",
        "id": "uczpNuc_A7wE"
      },
      "cell_type": "markdown",
      "source": [
        "## DatasetInfo\n",
        "\n",
        "After generation, the builder contains useful information on the dataset:"
      ]
    },
    {
      "metadata": {
        "colab_type": "code",
        "id": "mSamfFznA9Ph",
        "outputId": "a3203f4b-a1ca-4290-c7da-d4a148096807",
        "colab": {
          "base_uri": "https://localhost:8080/",
          "height": 272
        }
      },
      "cell_type": "code",
      "source": [
        "info = mnist_builder.info\n",
        "print(info)"
      ],
      "execution_count": 9,
      "outputs": [
        {
          "output_type": "stream",
          "text": [
            "tfds.core.DatasetInfo(\n",
            "    name='mnist',\n",
            "    version=1.0.0,\n",
            "    description='The MNIST database of handwritten digits.',\n",
            "    urls=[u'http://yann.lecun.com/exdb/mnist/'],\n",
            "    features=FeaturesDict({'image': Image(shape=(28, 28, 1), dtype=tf.uint8), 'label': ClassLabel(shape=(), dtype=tf.int64)}),\n",
            "    num_examples=70000,\n",
            "    splits=[u'test', u'train'],\n",
            "    examples_per_split=[10000L, 60000L],\n",
            "    supervised_keys=(u'image', u'label'),\n",
            "    citation='Y. Lecun and C. Cortes, \"The MNIST database of handwritten digits,\" 1998.\n",
            "[Online]. Available: http://yann.lecun.com/exdb/mnist/',\n",
            ")\n",
            "\n"
          ],
          "name": "stdout"
        }
      ]
    },
    {
      "metadata": {
        "id": "cspsneov2VbC",
        "colab_type": "text"
      },
      "cell_type": "markdown",
      "source": [
        "`DatasetInfo` also contains useful information about the features:"
      ]
    },
    {
      "metadata": {
        "id": "u1wL14QH2TW1",
        "colab_type": "code",
        "colab": {
          "base_uri": "https://localhost:8080/",
          "height": 72
        },
        "outputId": "262f4857-7253-4a16-af00-1ff404b69963"
      },
      "cell_type": "code",
      "source": [
        "print(info.features)\n",
        "print(info.features[\"label\"].num_classes)\n",
        "print(info.features[\"label\"].names)"
      ],
      "execution_count": 10,
      "outputs": [
        {
          "output_type": "stream",
          "text": [
            "FeaturesDict({'image': Image(shape=(28, 28, 1), dtype=tf.uint8), 'label': ClassLabel(shape=(), dtype=tf.int64)})\n",
            "10\n",
            "[u'0', u'1', u'2', u'3', u'4', u'5', u'6', u'7', u'8', u'9']\n"
          ],
          "name": "stdout"
        }
      ]
    },
    {
      "metadata": {
        "colab_type": "text",
        "id": "xbrm0WBmBLEI"
      },
      "cell_type": "markdown",
      "source": [
        "You can also load the `DatasetInfo` directly with `tfds.load` using `with_info=True`."
      ]
    },
    {
      "metadata": {
        "colab_type": "code",
        "id": "tvZYujQwBL7B",
        "outputId": "46fbcb43-697d-460b-da80-02e58bed8b3e",
        "colab": {
          "base_uri": "https://localhost:8080/",
          "height": 290
        }
      },
      "cell_type": "code",
      "source": [
        "dataset, info = tfds.load(\"mnist\", split=\"test\", with_info=True)\n",
        "print(info)"
      ],
      "execution_count": 11,
      "outputs": [
        {
          "output_type": "stream",
          "text": [
            "INFO:tensorflow:Reusing dataset mnist (/root/tensorflow_datasets/mnist/1.0.0)\n",
            "tfds.core.DatasetInfo(\n",
            "    name='mnist',\n",
            "    version=1.0.0,\n",
            "    description='The MNIST database of handwritten digits.',\n",
            "    urls=[u'http://yann.lecun.com/exdb/mnist/'],\n",
            "    features=FeaturesDict({'image': Image(shape=(28, 28, 1), dtype=tf.uint8), 'label': ClassLabel(shape=(), dtype=tf.int64)}),\n",
            "    num_examples=70000,\n",
            "    splits=[u'test', u'train'],\n",
            "    examples_per_split=[10000L, 60000L],\n",
            "    supervised_keys=(u'image', u'label'),\n",
            "    citation='Y. Lecun and C. Cortes, \"The MNIST database of handwritten digits,\" 1998.\n",
            "[Online]. Available: http://yann.lecun.com/exdb/mnist/',\n",
            ")\n",
            "\n"
          ],
          "name": "stdout"
        }
      ]
    }
  ]
}